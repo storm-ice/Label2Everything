{
 "cells": [
  {
   "cell_type": "markdown",
   "id": "06e5af38-85ad-46b6-a5ea-52a7ff947853",
   "metadata": {},
   "source": [
    "# Labelme转COCO-单个文件\n",
    "\n",
    "同济子豪兄 呕心沥血写成\n",
    "\n",
    "兼容目标检测、图像分割、关键点检测三种标注\n",
    "\n",
    "2023-3-9\n",
    "\n",
    "2023-3-10\n",
    "\n",
    "2023-4-15\n",
    "\n",
    "2023-4-16"
   ]
  },
  {
   "cell_type": "markdown",
   "id": "b0a8a2a1-fb46-4d51-8b4f-cd0568bc13f8",
   "metadata": {},
   "source": [
    "## 导入工具包"
   ]
  },
  {
   "cell_type": "code",
   "execution_count": 1,
   "id": "5969d148-19e6-4b2e-9797-01105b87b56c",
   "metadata": {},
   "outputs": [],
   "source": [
    "import os\n",
    "import json\n",
    "import numpy as np"
   ]
  },
  {
   "cell_type": "markdown",
   "id": "75c4fd53-f3ce-4a27-9024-6abec83717d9",
   "metadata": {},
   "source": [
    "## 删除系统自动生成的多余文件\n",
    "\n",
    "建议在 Linux 系统中运行爬虫、划分训练集测试集代码"
   ]
  },
  {
   "cell_type": "markdown",
   "id": "b7ecd3ad-874c-46cc-ac47-6f4ae3adf07a",
   "metadata": {},
   "source": [
    "### 查看待删除的多余文件"
   ]
  },
  {
   "cell_type": "code",
   "execution_count": 2,
   "id": "a8356247-4b89-42e9-aa87-4c630f05e1f8",
   "metadata": {},
   "outputs": [],
   "source": [
    "!find . -iname '__MACOSX'"
   ]
  },
  {
   "cell_type": "code",
   "execution_count": 3,
   "id": "a1b64d9d-bdf8-43fe-8321-bb6d241137dc",
   "metadata": {},
   "outputs": [],
   "source": [
    "!find . -iname '.DS_Store'"
   ]
  },
  {
   "cell_type": "code",
   "execution_count": 4,
   "id": "a5f038c2-72ba-4724-a190-b2ec97d8bcf0",
   "metadata": {},
   "outputs": [
    {
     "name": "stdout",
     "output_type": "stream",
     "text": [
      "./.ipynb_checkpoints\n"
     ]
    }
   ],
   "source": [
    "!find . -iname '.ipynb_checkpoints'"
   ]
  },
  {
   "cell_type": "markdown",
   "id": "191ccc29-baeb-46ff-8125-71c49adee533",
   "metadata": {},
   "source": [
    "### 删除多余文件"
   ]
  },
  {
   "cell_type": "code",
   "execution_count": 5,
   "id": "4bf04f95-0750-4248-8696-fa2aa4ff03e5",
   "metadata": {},
   "outputs": [],
   "source": [
    "!for i in `find . -iname '__MACOSX'`; do rm -rf $i;done"
   ]
  },
  {
   "cell_type": "code",
   "execution_count": 6,
   "id": "217b2325-835b-451c-89d7-3d39c5dfc5c2",
   "metadata": {},
   "outputs": [],
   "source": [
    "!for i in `find . -iname '.DS_Store'`; do rm -rf $i;done"
   ]
  },
  {
   "cell_type": "code",
   "execution_count": 7,
   "id": "cfb7afa4-106a-4e6a-ab35-86f0eb902432",
   "metadata": {},
   "outputs": [],
   "source": [
    "!for i in `find . -iname '.ipynb_checkpoints'`; do rm -rf $i;done"
   ]
  },
  {
   "cell_type": "markdown",
   "id": "8a2904f2-93ba-4726-9b2b-b8285511a760",
   "metadata": {},
   "source": [
    "### 验证多余文件已删除"
   ]
  },
  {
   "cell_type": "code",
   "execution_count": 8,
   "id": "33239471-a70e-426d-beba-3517c14311e6",
   "metadata": {},
   "outputs": [],
   "source": [
    "!find . -iname '__MACOSX'"
   ]
  },
  {
   "cell_type": "code",
   "execution_count": 9,
   "id": "f82a7703-8b94-4103-9672-ec29849616b9",
   "metadata": {},
   "outputs": [],
   "source": [
    "!find . -iname '.DS_Store'"
   ]
  },
  {
   "cell_type": "code",
   "execution_count": 10,
   "id": "0101460a-d0bc-4388-aa0b-d30b0f0ef538",
   "metadata": {},
   "outputs": [],
   "source": [
    "!find . -iname '.ipynb_checkpoints'"
   ]
  },
  {
   "cell_type": "markdown",
   "id": "4b4fb7ee-0886-416c-bbaf-6c2dfe7e63c9",
   "metadata": {},
   "source": [
    "## 载入一个labelme格式的json标注文件"
   ]
  },
  {
   "cell_type": "code",
   "execution_count": 11,
   "id": "b17d0e7a-b987-4784-9dfe-a67ebfeefb15",
   "metadata": {},
   "outputs": [],
   "source": [
    "with open('DSC_0281.json', 'r', encoding='utf-8') as f:\n",
    "    labelme = json.load(f)"
   ]
  },
  {
   "cell_type": "code",
   "execution_count": 12,
   "id": "2c2b711c-4e34-459b-854f-bfdda7170935",
   "metadata": {},
   "outputs": [
    {
     "data": {
      "text/plain": [
       "dict_keys(['version', 'flags', 'shapes', 'imagePath', 'imageData', 'imageHeight', 'imageWidth'])"
      ]
     },
     "execution_count": 12,
     "metadata": {},
     "output_type": "execute_result"
    }
   ],
   "source": [
    "labelme.keys()"
   ]
  },
  {
   "cell_type": "markdown",
   "id": "979f8578-9c1c-4b32-b98e-53838d0ef5fe",
   "metadata": {},
   "source": [
    "## 元数据 "
   ]
  },
  {
   "cell_type": "code",
   "execution_count": 13,
   "id": "9fb38995-4ecc-44b4-a132-1d6851f18961",
   "metadata": {},
   "outputs": [
    {
     "data": {
      "text/plain": [
       "'5.1.1'"
      ]
     },
     "execution_count": 13,
     "metadata": {},
     "output_type": "execute_result"
    }
   ],
   "source": [
    "labelme['version']"
   ]
  },
  {
   "cell_type": "code",
   "execution_count": 14,
   "id": "376d7a49-d5a1-4827-b68e-7334a231a144",
   "metadata": {},
   "outputs": [
    {
     "data": {
      "text/plain": [
       "{}"
      ]
     },
     "execution_count": 14,
     "metadata": {},
     "output_type": "execute_result"
    }
   ],
   "source": [
    "labelme['flags']"
   ]
  },
  {
   "cell_type": "code",
   "execution_count": 15,
   "id": "1733f8f9-72d4-47f8-a010-2ab98b724afa",
   "metadata": {},
   "outputs": [
    {
     "data": {
      "text/plain": [
       "'DSC_0281.jpg'"
      ]
     },
     "execution_count": 15,
     "metadata": {},
     "output_type": "execute_result"
    }
   ],
   "source": [
    "# 图像文件名\n",
    "labelme['imagePath']"
   ]
  },
  {
   "cell_type": "code",
   "execution_count": 16,
   "id": "c0411a3c-8e43-4878-8657-cbdca9e15c18",
   "metadata": {},
   "outputs": [],
   "source": [
    "labelme['imageData']"
   ]
  },
  {
   "cell_type": "code",
   "execution_count": 17,
   "id": "9bc00c97-9d5f-4664-b502-631cdf2a15b8",
   "metadata": {},
   "outputs": [
    {
     "data": {
      "text/plain": [
       "3712"
      ]
     },
     "execution_count": 17,
     "metadata": {},
     "output_type": "execute_result"
    }
   ],
   "source": [
    "# 图像高度\n",
    "labelme['imageHeight']"
   ]
  },
  {
   "cell_type": "code",
   "execution_count": 18,
   "id": "8185cf9e-84ba-4081-8e4a-db189b10d29e",
   "metadata": {},
   "outputs": [
    {
     "data": {
      "text/plain": [
       "5568"
      ]
     },
     "execution_count": 18,
     "metadata": {},
     "output_type": "execute_result"
    }
   ],
   "source": [
    "# 图像宽度\n",
    "labelme['imageWidth']"
   ]
  },
  {
   "cell_type": "markdown",
   "id": "68bd2fd7-914f-4ebc-a65e-bf43ceb87761",
   "metadata": {},
   "source": [
    "## 标注信息"
   ]
  },
  {
   "cell_type": "code",
   "execution_count": 19,
   "id": "2ddb2f62-b076-491f-83cf-aa4f12c82ea3",
   "metadata": {},
   "outputs": [
    {
     "data": {
      "text/plain": [
       "[{'label': 'sjb_rect',\n",
       "  'points': [[1138.0, 0.0], [4480.0, 1562.0]],\n",
       "  'group_id': None,\n",
       "  'shape_type': 'rectangle',\n",
       "  'flags': {}},\n",
       " {'label': 'sjb_rect',\n",
       "  'points': [[1160.0, 1954.0], [4560.0, 3566.0]],\n",
       "  'group_id': None,\n",
       "  'shape_type': 'rectangle',\n",
       "  'flags': {}},\n",
       " {'label': 'angle_30',\n",
       "  'points': [[4434.0, 284.0]],\n",
       "  'group_id': None,\n",
       "  'shape_type': 'point',\n",
       "  'flags': {}},\n",
       " {'label': 'angle_30',\n",
       "  'points': [[4526.0, 2316.0]],\n",
       "  'group_id': None,\n",
       "  'shape_type': 'point',\n",
       "  'flags': {}},\n",
       " {'label': 'angle_60',\n",
       "  'points': [[1202.0, 44.0]],\n",
       "  'group_id': None,\n",
       "  'shape_type': 'point',\n",
       "  'flags': {}},\n",
       " {'label': 'angle_60',\n",
       "  'points': [[1218.0, 2000.0]],\n",
       "  'group_id': None,\n",
       "  'shape_type': 'point',\n",
       "  'flags': {}},\n",
       " {'label': 'angle_90',\n",
       "  'points': [[1934.0, 1512.0]],\n",
       "  'group_id': None,\n",
       "  'shape_type': 'point',\n",
       "  'flags': {}},\n",
       " {'label': 'angle_90',\n",
       "  'points': [[1906.0, 3532.0]],\n",
       "  'group_id': None,\n",
       "  'shape_type': 'point',\n",
       "  'flags': {}},\n",
       " {'label': 'sjb_poly',\n",
       "  'points': [[1202.0, 28.0], [4454.0, 280.0], [1938.0, 1524.0]],\n",
       "  'group_id': None,\n",
       "  'shape_type': 'polygon',\n",
       "  'flags': {}},\n",
       " {'label': 'sjb_poly',\n",
       "  'points': [[1222.0, 1992.0], [4542.0, 2292.0], [1918.0, 3532.0]],\n",
       "  'group_id': None,\n",
       "  'shape_type': 'polygon',\n",
       "  'flags': {}}]"
      ]
     },
     "execution_count": 19,
     "metadata": {},
     "output_type": "execute_result"
    }
   ],
   "source": [
    "labelme['shapes']"
   ]
  },
  {
   "cell_type": "markdown",
   "id": "3e2093d2-f904-40da-b06f-8e844bf86d72",
   "metadata": {},
   "source": [
    "## 创建coco格式的字典"
   ]
  },
  {
   "cell_type": "code",
   "execution_count": 20,
   "id": "270c366b-3283-4e2f-acf1-79fb9f6f8af5",
   "metadata": {},
   "outputs": [],
   "source": [
    "coco = {}"
   ]
  },
  {
   "cell_type": "markdown",
   "id": "76e3dae4-2846-4f7b-ae86-477f1bb52ec1",
   "metadata": {},
   "source": [
    "## info"
   ]
  },
  {
   "cell_type": "code",
   "execution_count": 21,
   "id": "3113d81f-e367-45b1-b954-bc0e51901625",
   "metadata": {},
   "outputs": [],
   "source": [
    "# coco['info'] = {}\n",
    "# coco['info']['description'] = 'Labelme2coco keypoint format script from Zihao'\n",
    "# coco['info']['year'] = 2023\n",
    "# coco['info']['date_created'] = '2023/03/09'"
   ]
  },
  {
   "cell_type": "markdown",
   "id": "0010f997-25e6-43b3-8f5b-e107a2423ed5",
   "metadata": {},
   "source": [
    "## categories"
   ]
  },
  {
   "cell_type": "markdown",
   "id": "f84eb010-9bcc-4a11-ae83-d723b84bc961",
   "metadata": {},
   "source": [
    "supercategory：框的类别（对于人体姿态估计，只有person一个类别）\n",
    "\n",
    "keypoints：节点类别排序，后续的关键点坐标展示顺序\n",
    "\n",
    "skeleton：可有可无，可视化时需要"
   ]
  },
  {
   "cell_type": "code",
   "execution_count": 22,
   "id": "d5300c79-48a3-40f4-a0c8-7dd4a6388aa8",
   "metadata": {},
   "outputs": [],
   "source": [
    "class_list= {\n",
    "    'supercategory': 'sjb_rect',\n",
    "    'id': 1,\n",
    "    'name': 'sjb_rect',\n",
    "    'keypoints': ['angle_30', 'angle_60', 'angle_90'], # 大小写敏感\n",
    "    'skeleton':[[0,1], [0,2], [1,2]]\n",
    "}"
   ]
  },
  {
   "cell_type": "code",
   "execution_count": 23,
   "id": "9e4ab405-1aef-484a-8d39-8d565f54204f",
   "metadata": {},
   "outputs": [],
   "source": [
    "coco['categories'] = []\n",
    "coco['categories'].append(class_list)\n",
    "\n",
    "coco['images'] = []\n",
    "coco['annotations'] = []\n",
    "\n",
    "IMG_ID = 0\n",
    "ANN_ID = 0"
   ]
  },
  {
   "cell_type": "markdown",
   "id": "68f2d4e8-824d-4b19-b529-632c85de25ec",
   "metadata": {},
   "source": [
    "## 函数-处理单个labelme标注json文件"
   ]
  },
  {
   "cell_type": "code",
   "execution_count": 24,
   "id": "a53dbf74-7e72-4ef0-b39e-e03baa198a21",
   "metadata": {},
   "outputs": [],
   "source": [
    "def process_single_json(labelme, image_id=1):\n",
    "    '''\n",
    "    输入labelme的json数据，输出coco格式的每个框的关键点标注信息\n",
    "    '''\n",
    "    \n",
    "    global ANN_ID\n",
    "    \n",
    "    coco_annotations = []\n",
    "    \n",
    "    for each_ann in labelme['shapes']: # 遍历该json文件中的所有标注\n",
    "\n",
    "        if each_ann['shape_type'] == 'rectangle': # 筛选出框\n",
    "\n",
    "            # 该框元数据\n",
    "            bbox_dict = {}\n",
    "            bbox_dict['category_id'] = 1\n",
    "            bbox_dict['segmentation'] = []\n",
    "            \n",
    "            bbox_dict['iscrowd'] = 0\n",
    "            bbox_dict['segmentation'] = []\n",
    "            bbox_dict['image_id'] = image_id\n",
    "            bbox_dict['id'] = ANN_ID\n",
    "            # print(ANN_ID)\n",
    "            ANN_ID += 1\n",
    "\n",
    "            # 获取该框坐标\n",
    "            bbox_left_top_x = min(int(each_ann['points'][0][0]), int(each_ann['points'][1][0]))\n",
    "            bbox_left_top_y = min(int(each_ann['points'][0][1]), int(each_ann['points'][1][1]))\n",
    "            bbox_right_bottom_x = max(int(each_ann['points'][0][0]), int(each_ann['points'][1][0]))\n",
    "            bbox_right_bottom_y = max(int(each_ann['points'][0][1]), int(each_ann['points'][1][1]))\n",
    "            bbox_w = bbox_right_bottom_x - bbox_left_top_x\n",
    "            bbox_h = bbox_right_bottom_y - bbox_left_top_y\n",
    "            bbox_dict['bbox'] = [bbox_left_top_x, bbox_left_top_y, bbox_w, bbox_h] # 左上角x、y、框的w、h\n",
    "            bbox_dict['area'] = bbox_w * bbox_h\n",
    "            \n",
    "            # 筛选出分割多段线\n",
    "            for each_ann in labelme['shapes']: # 遍历所有标注\n",
    "                if each_ann['shape_type'] == 'polygon': # 筛选出分割多段线标注\n",
    "                    # 第一个点的坐标\n",
    "                    first_x = each_ann['points'][0][0]\n",
    "                    first_y = each_ann['points'][0][1]\n",
    "                    if (first_x>bbox_left_top_x) & (first_x<bbox_right_bottom_x) & (first_y<bbox_right_bottom_y) & (first_y>bbox_left_top_y): # 筛选出在该个体框中的关键点\n",
    "                        bbox_dict['segmentation'] = list(map(lambda x: list(map(lambda y: round(y, 2), x)), each_ann['points'])) # 坐标保留两位小数\n",
    "                        # bbox_dict['segmentation'] = each_ann['points']\n",
    "\n",
    "            # 筛选出该个体框中的所有关键点\n",
    "            bbox_keypoints_dict = {}\n",
    "            for each_ann in labelme['shapes']: # 遍历所有标注\n",
    "                \n",
    "                if each_ann['shape_type'] == 'point': # 筛选出关键点标注\n",
    "                    # 关键点横纵坐标\n",
    "                    x = int(each_ann['points'][0][0])\n",
    "                    y = int(each_ann['points'][0][1])\n",
    "                    label = each_ann['label']\n",
    "                    if (x>bbox_left_top_x) & (x<bbox_right_bottom_x) & (y<bbox_right_bottom_y) & (y>bbox_left_top_y): # 筛选出在该个体框中的关键点\n",
    "                        bbox_keypoints_dict[label] = [x, y]\n",
    "                        \n",
    "            bbox_dict['num_keypoints'] = len(bbox_keypoints_dict)\n",
    "            # print(bbox_keypoints_dict)\n",
    "\n",
    "            # 把关键点按照类别顺序排好\n",
    "            bbox_dict['keypoints'] = []\n",
    "            for each_class in class_list['keypoints']:\n",
    "                if each_class in bbox_keypoints_dict:\n",
    "                    bbox_dict['keypoints'].append(bbox_keypoints_dict[each_class][0])\n",
    "                    bbox_dict['keypoints'].append(bbox_keypoints_dict[each_class][1])\n",
    "                    bbox_dict['keypoints'].append(2) # 2-可见不遮挡 1-遮挡 0-没有点\n",
    "                else: # 不存在的点，一律为0\n",
    "                    bbox_dict['keypoints'].append(0)\n",
    "                    bbox_dict['keypoints'].append(0)\n",
    "                    bbox_dict['keypoints'].append(0)\n",
    "                    \n",
    "            coco_annotations.append(bbox_dict)\n",
    "            \n",
    "    return coco_annotations"
   ]
  },
  {
   "cell_type": "markdown",
   "id": "fb0000c2-7255-488b-8585-d87af4c849b0",
   "metadata": {},
   "source": [
    "## 测试一下函数的效果，处理单个labelme格式的json标注文件"
   ]
  },
  {
   "cell_type": "code",
   "execution_count": 25,
   "id": "5235f915-a441-43c3-9cdf-2eab3698d1c6",
   "metadata": {},
   "outputs": [],
   "source": [
    "labelme_json_path = 'DSC_0281.json'\n",
    "\n",
    "with open(labelme_json_path, 'r', encoding='utf-8') as f:\n",
    "    labelme = json.load(f)"
   ]
  },
  {
   "cell_type": "code",
   "execution_count": 26,
   "id": "1c68653e-fcc0-413c-b96d-2befbd370788",
   "metadata": {},
   "outputs": [
    {
     "data": {
      "text/plain": [
       "[{'category_id': 1,\n",
       "  'segmentation': [[1202.0, 28.0], [4454.0, 280.0], [1938.0, 1524.0]],\n",
       "  'iscrowd': 0,\n",
       "  'image_id': 1,\n",
       "  'id': 0,\n",
       "  'bbox': [1138, 0, 3342, 1562],\n",
       "  'area': 5220204,\n",
       "  'num_keypoints': 3,\n",
       "  'keypoints': [4434, 284, 2, 1202, 44, 2, 1934, 1512, 2]},\n",
       " {'category_id': 1,\n",
       "  'segmentation': [[1222.0, 1992.0], [4542.0, 2292.0], [1918.0, 3532.0]],\n",
       "  'iscrowd': 0,\n",
       "  'image_id': 1,\n",
       "  'id': 1,\n",
       "  'bbox': [1160, 1954, 3400, 1612],\n",
       "  'area': 5480800,\n",
       "  'num_keypoints': 3,\n",
       "  'keypoints': [4526, 2316, 2, 1218, 2000, 2, 1906, 3532, 2]}]"
      ]
     },
     "execution_count": 26,
     "metadata": {},
     "output_type": "execute_result"
    }
   ],
   "source": [
    "process_single_json(labelme)"
   ]
  },
  {
   "cell_type": "markdown",
   "id": "92bf92c2-2760-4419-8ec0-376fa8f2c94c",
   "metadata": {
    "tags": []
   },
   "source": [
    "## images和annotations"
   ]
  },
  {
   "cell_type": "code",
   "execution_count": 27,
   "id": "2cabd690-f506-4409-91e2-72b58778be09",
   "metadata": {},
   "outputs": [],
   "source": [
    "IMG_ID = 0\n",
    "ANN_ID = 0"
   ]
  },
  {
   "cell_type": "code",
   "execution_count": 28,
   "id": "8ff03c44-d52f-4ea4-aabe-c5a431f202b7",
   "metadata": {},
   "outputs": [
    {
     "name": "stdout",
     "output_type": "stream",
     "text": [
      "DSC_0281.json 已处理完毕\n"
     ]
    }
   ],
   "source": [
    "# 遍历所有 labelme 格式的 json 文件\n",
    "for labelme_json in os.listdir(): \n",
    "    \n",
    "    if labelme_json.split('.')[-1] == 'json':\n",
    "        \n",
    "        with open(labelme_json, 'r', encoding='utf-8') as f:\n",
    "            \n",
    "            labelme = json.load(f)\n",
    "            \n",
    "            ## 提取图像元数据\n",
    "            img_dict = {}\n",
    "            img_dict['file_name'] = labelme['imagePath']\n",
    "            img_dict['height'] = labelme['imageHeight']\n",
    "            img_dict['width'] = labelme['imageWidth']\n",
    "            img_dict['id'] = IMG_ID\n",
    "            coco['images'].append(img_dict)\n",
    "            \n",
    "            ## 提取框和关键点信息\n",
    "            coco_annotations = process_single_json(labelme, image_id=IMG_ID)\n",
    "            coco['annotations'] += coco_annotations\n",
    "            \n",
    "            IMG_ID += 1\n",
    "            \n",
    "            print(labelme_json, '已处理完毕')\n",
    "\n",
    "    else:\n",
    "        pass"
   ]
  },
  {
   "cell_type": "markdown",
   "id": "91297f39-cf9b-46e7-b8ec-d2dc3fe3caf8",
   "metadata": {},
   "source": [
    "## 保存为MS COCO格式的json标注文件"
   ]
  },
  {
   "cell_type": "code",
   "execution_count": 29,
   "id": "946d53ee-7ada-4428-bb4c-6b52eab88d32",
   "metadata": {},
   "outputs": [],
   "source": [
    "if not os.path.exists('output_coco'):\n",
    "    os.mkdir('output_coco')\n",
    "    print('创建新目录 output_coco')"
   ]
  },
  {
   "cell_type": "code",
   "execution_count": 30,
   "id": "fa9e02a6-7d52-46ec-af90-b7192bda877d",
   "metadata": {},
   "outputs": [],
   "source": [
    "coco_path = 'output_coco/coco_sample.json'"
   ]
  },
  {
   "cell_type": "code",
   "execution_count": 31,
   "id": "20f074ed-dd24-4f49-bdd9-26dd204d0714",
   "metadata": {},
   "outputs": [],
   "source": [
    "with open(coco_path, 'w') as f:\n",
    "    json.dump(coco, f, indent=2)"
   ]
  },
  {
   "cell_type": "code",
   "execution_count": 32,
   "id": "2be6bf0b-8fb9-4708-a44d-5633ef2c8715",
   "metadata": {},
   "outputs": [
    {
     "data": {
      "text/plain": [
       "{'categories': [{'supercategory': 'sjb_rect',\n",
       "   'id': 1,\n",
       "   'name': 'sjb_rect',\n",
       "   'keypoints': ['angle_30', 'angle_60', 'angle_90'],\n",
       "   'skeleton': [[0, 1], [0, 2], [1, 2]]}],\n",
       " 'images': [{'file_name': 'DSC_0281.jpg',\n",
       "   'height': 3712,\n",
       "   'width': 5568,\n",
       "   'id': 0}],\n",
       " 'annotations': [{'category_id': 1,\n",
       "   'segmentation': [[1202.0, 28.0], [4454.0, 280.0], [1938.0, 1524.0]],\n",
       "   'iscrowd': 0,\n",
       "   'image_id': 0,\n",
       "   'id': 0,\n",
       "   'bbox': [1138, 0, 3342, 1562],\n",
       "   'area': 5220204,\n",
       "   'num_keypoints': 3,\n",
       "   'keypoints': [4434, 284, 2, 1202, 44, 2, 1934, 1512, 2]},\n",
       "  {'category_id': 1,\n",
       "   'segmentation': [[1222.0, 1992.0], [4542.0, 2292.0], [1918.0, 3532.0]],\n",
       "   'iscrowd': 0,\n",
       "   'image_id': 0,\n",
       "   'id': 1,\n",
       "   'bbox': [1160, 1954, 3400, 1612],\n",
       "   'area': 5480800,\n",
       "   'num_keypoints': 3,\n",
       "   'keypoints': [4526, 2316, 2, 1218, 2000, 2, 1906, 3532, 2]}]}"
      ]
     },
     "execution_count": 32,
     "metadata": {},
     "output_type": "execute_result"
    }
   ],
   "source": [
    "coco"
   ]
  },
  {
   "cell_type": "markdown",
   "id": "19620709-b2dc-4db5-892f-8854702333e7",
   "metadata": {},
   "source": [
    "## 验证MS COCO格式的标注"
   ]
  },
  {
   "cell_type": "code",
   "execution_count": null,
   "id": "91df03da-710c-4d55-9a30-3b21067f042a",
   "metadata": {},
   "outputs": [],
   "source": [
    "# !pip install pycocotools"
   ]
  },
  {
   "cell_type": "code",
   "execution_count": 33,
   "id": "10fa6971-4520-41fd-b6ca-5560bd2dad03",
   "metadata": {},
   "outputs": [
    {
     "name": "stdout",
     "output_type": "stream",
     "text": [
      "loading annotations into memory...\n",
      "Done (t=0.00s)\n",
      "creating index...\n",
      "index created!\n"
     ]
    }
   ],
   "source": [
    "from pycocotools.coco import COCO\n",
    "\n",
    "my_coco = COCO(coco_path)"
   ]
  },
  {
   "cell_type": "code",
   "execution_count": null,
   "id": "32c73f79-4665-45a2-973e-3ce16635999a",
   "metadata": {},
   "outputs": [],
   "source": []
  }
 ],
 "metadata": {
  "kernelspec": {
   "display_name": "Python 3 (ipykernel)",
   "language": "python",
   "name": "python3"
  },
  "language_info": {
   "codemirror_mode": {
    "name": "ipython",
    "version": 3
   },
   "file_extension": ".py",
   "mimetype": "text/x-python",
   "name": "python",
   "nbconvert_exporter": "python",
   "pygments_lexer": "ipython3",
   "version": "3.7.10"
  }
 },
 "nbformat": 4,
 "nbformat_minor": 5
}
