{
 "cells": [
  {
   "cell_type": "markdown",
   "id": "947c906f-136a-4f3c-9345-c57f0ed34124",
   "metadata": {},
   "source": [
    "# 划分训练集和测试集\n",
    "\n",
    "张子豪 2023-4-16"
   ]
  },
  {
   "cell_type": "code",
   "execution_count": 1,
   "id": "11c7d96b-19a4-4236-bf1f-2977f2dcba99",
   "metadata": {},
   "outputs": [],
   "source": [
    "import os\n",
    "import shutil\n",
    "import random\n",
    "from tqdm import tqdm"
   ]
  },
  {
   "cell_type": "code",
   "execution_count": 2,
   "id": "23aeda88-1d70-40ca-b895-6f57a84dda58",
   "metadata": {},
   "outputs": [],
   "source": [
    "Dataset_root = 'SJB_25_Dataset'"
   ]
  },
  {
   "cell_type": "code",
   "execution_count": 3,
   "id": "44330058-96ad-4898-8dd0-e358a5c30cf0",
   "metadata": {},
   "outputs": [],
   "source": [
    "os.chdir(os.path.join(Dataset_root, 'images'))"
   ]
  },
  {
   "cell_type": "code",
   "execution_count": 4,
   "id": "ca2838dc-aca4-4822-ad1d-bb2fd771223a",
   "metadata": {},
   "outputs": [
    {
     "data": {
      "text/plain": [
       "['DSC_0219.jpg',\n",
       " 'DSC_0209.jpg',\n",
       " 'DSC_0236.jpg',\n",
       " 'DSC_0293.jpg',\n",
       " 'DSC_0245.jpg',\n",
       " 'DSC_0278.jpg',\n",
       " 'MVIMG_20230331_080908.jpg',\n",
       " 'MVIMG_20230331_080920.jpg',\n",
       " 'DSC_0285.jpg',\n",
       " 'DSC_0284.jpg',\n",
       " 'DSC_0280.jpg',\n",
       " 'DSC_0281.jpg',\n",
       " 'DSC_0240.jpg',\n",
       " 'DSC_0283.jpg',\n",
       " 'DSC_0269.jpg',\n",
       " 'DSC_0282.jpg',\n",
       " 'DSC_0259.jpg',\n",
       " 'MVIMG_20230331_080914.jpg',\n",
       " 'MVIMG_20230331_080915.jpg',\n",
       " 'DSC_0289.jpg',\n",
       " 'DSC_0260.jpg',\n",
       " 'DSC_0274.jpg',\n",
       " 'DSC_0301.jpg',\n",
       " 'DSC_0265.jpg',\n",
       " 'MVIMG_20230331_080912.jpg']"
      ]
     },
     "execution_count": 4,
     "metadata": {},
     "output_type": "execute_result"
    }
   ],
   "source": [
    "os.listdir()"
   ]
  },
  {
   "cell_type": "markdown",
   "id": "17c68c29-c117-47ad-b407-e0a53d3c5f52",
   "metadata": {},
   "source": [
    "## 划分训练集、测试集"
   ]
  },
  {
   "cell_type": "code",
   "execution_count": 5,
   "id": "9559d312-7353-47e8-8207-84f31a229b9c",
   "metadata": {},
   "outputs": [],
   "source": [
    "test_frac = 0.2  # 测试集比例\n",
    "random.seed(123) # 随机数种子，便于复现"
   ]
  },
  {
   "cell_type": "code",
   "execution_count": 6,
   "id": "02992d76-09cf-43ac-8d39-03f18b04a12a",
   "metadata": {},
   "outputs": [],
   "source": [
    "folder = '.'"
   ]
  },
  {
   "cell_type": "code",
   "execution_count": 7,
   "id": "9edb977a-5a88-45ff-923d-0865c8b1421c",
   "metadata": {},
   "outputs": [
    {
     "name": "stdout",
     "output_type": "stream",
     "text": [
      "数据集文件总数 25\n",
      "训练集文件个数 20\n",
      "测试集文件个数 5\n"
     ]
    }
   ],
   "source": [
    "img_paths = os.listdir(folder)\n",
    "random.shuffle(img_paths) # 随机打乱\n",
    "\n",
    "val_number = int(len(img_paths) * test_frac) # 测试集文件个数\n",
    "train_files = img_paths[val_number:]         # 训练集文件名列表\n",
    "val_files = img_paths[:val_number]           # 测试集文件名列表\n",
    "\n",
    "print('数据集文件总数', len(img_paths))\n",
    "print('训练集文件个数', len(train_files))\n",
    "print('测试集文件个数', len(val_files))"
   ]
  },
  {
   "cell_type": "markdown",
   "id": "7c275b31-12ae-4d62-a050-d7a9636b0439",
   "metadata": {},
   "source": [
    "## 将训练集图像移动到`images/trian`目录"
   ]
  },
  {
   "cell_type": "code",
   "execution_count": 8,
   "id": "66bdba3f-4bfb-4865-a427-e330fefec387",
   "metadata": {},
   "outputs": [
    {
     "name": "stderr",
     "output_type": "stream",
     "text": [
      "100%|██████████| 20/20 [00:00<00:00, 1443.72it/s]\n"
     ]
    }
   ],
   "source": [
    "os.mkdir('train')\n",
    "for each in tqdm(train_files):\n",
    "    shutil.move(each, 'train')"
   ]
  },
  {
   "cell_type": "markdown",
   "id": "18828a1d-01ab-4816-937b-292d3578e8f7",
   "metadata": {},
   "source": [
    "## 将测试集图像移动到`images/val`目录"
   ]
  },
  {
   "cell_type": "code",
   "execution_count": 9,
   "id": "962e949b-f578-4be7-9910-7177c308e8fe",
   "metadata": {},
   "outputs": [
    {
     "name": "stderr",
     "output_type": "stream",
     "text": [
      "100%|██████████| 5/5 [00:00<00:00, 873.01it/s]\n"
     ]
    }
   ],
   "source": [
    "os.mkdir('val')\n",
    "for each in tqdm(val_files):\n",
    "    shutil.move(each, 'val')"
   ]
  },
  {
   "cell_type": "markdown",
   "id": "6301413f-f5e2-4a29-b189-26a3dca72193",
   "metadata": {},
   "source": [
    "## 将训练集标注移动到`labelme_jsons/train`目录"
   ]
  },
  {
   "cell_type": "code",
   "execution_count": 10,
   "id": "5ba779c6-5d24-4569-a2c5-93ffebbaed43",
   "metadata": {},
   "outputs": [],
   "source": [
    "os.chdir('../labelme_jsons')"
   ]
  },
  {
   "cell_type": "code",
   "execution_count": 11,
   "id": "e96ff435-1705-4c4e-b63b-9f1488618e5a",
   "metadata": {},
   "outputs": [
    {
     "name": "stderr",
     "output_type": "stream",
     "text": [
      "100%|██████████| 20/20 [00:00<00:00, 1320.08it/s]\n"
     ]
    }
   ],
   "source": [
    "os.mkdir('train')\n",
    "for each in tqdm(train_files):\n",
    "    srt_path = each.split('.')[0] + '.json'\n",
    "    shutil.move(srt_path, 'train')"
   ]
  },
  {
   "cell_type": "markdown",
   "id": "5311ee76-c792-4b14-8e0f-6d7782ec1aa5",
   "metadata": {},
   "source": [
    "## 将测试集标注移动到`labelme_jsons/val`目录"
   ]
  },
  {
   "cell_type": "code",
   "execution_count": 12,
   "id": "df9f8b03-4f60-42b0-be3c-8e3b5605a7e9",
   "metadata": {},
   "outputs": [
    {
     "name": "stderr",
     "output_type": "stream",
     "text": [
      "100%|██████████| 5/5 [00:00<00:00, 663.87it/s]\n"
     ]
    }
   ],
   "source": [
    "os.mkdir('val')\n",
    "for each in tqdm(val_files):\n",
    "    srt_path = each.split('.')[0] + '.json'\n",
    "    shutil.move(srt_path, 'val')"
   ]
  },
  {
   "cell_type": "code",
   "execution_count": 13,
   "id": "65a18861-f94e-4d96-a432-6ddbbea12fb6",
   "metadata": {},
   "outputs": [],
   "source": [
    "os.chdir('../../')"
   ]
  },
  {
   "cell_type": "markdown",
   "id": "b04360b9-c43b-4a01-a093-8908be5ea0a8",
   "metadata": {},
   "source": [
    "## 删除系统自动生成的多余文件"
   ]
  },
  {
   "cell_type": "markdown",
   "id": "f049f6ef-d54d-4d1d-83e7-a8d23bcb85a0",
   "metadata": {},
   "source": [
    "### 查看待删除的多余文件"
   ]
  },
  {
   "cell_type": "code",
   "execution_count": 14,
   "id": "23c17bcc-bcbc-4ed1-a829-1b63e99d2b80",
   "metadata": {},
   "outputs": [],
   "source": [
    "!find . -iname '__MACOSX'"
   ]
  },
  {
   "cell_type": "code",
   "execution_count": 15,
   "id": "69da9d50-11d1-4071-b818-dbb065a6474e",
   "metadata": {},
   "outputs": [],
   "source": [
    "!find . -iname '.DS_Store'"
   ]
  },
  {
   "cell_type": "code",
   "execution_count": 16,
   "id": "d4d6ca60-2948-4105-b635-e0d390814067",
   "metadata": {},
   "outputs": [
    {
     "name": "stdout",
     "output_type": "stream",
     "text": [
      "./.ipynb_checkpoints\n"
     ]
    }
   ],
   "source": [
    "!find . -iname '.ipynb_checkpoints'"
   ]
  },
  {
   "cell_type": "markdown",
   "id": "fedea526-5aac-42a6-b058-61b4ae4afe81",
   "metadata": {},
   "source": [
    "### 删除多余文件"
   ]
  },
  {
   "cell_type": "code",
   "execution_count": 17,
   "id": "8d959813-5703-4e01-ba3e-f27b207d59f2",
   "metadata": {},
   "outputs": [],
   "source": [
    "!for i in `find . -iname '__MACOSX'`; do rm -rf $i;done"
   ]
  },
  {
   "cell_type": "code",
   "execution_count": 18,
   "id": "d2ea0bef-6954-44d5-8478-680c8d7eded1",
   "metadata": {},
   "outputs": [],
   "source": [
    "!for i in `find . -iname '.DS_Store'`; do rm -rf $i;done"
   ]
  },
  {
   "cell_type": "code",
   "execution_count": 19,
   "id": "7a2b568c-2685-4a13-90f6-185f60066360",
   "metadata": {},
   "outputs": [],
   "source": [
    "!for i in `find . -iname '.ipynb_checkpoints'`; do rm -rf $i;done"
   ]
  },
  {
   "cell_type": "markdown",
   "id": "c0f41291-369b-4dd2-8265-8b54a980f6ea",
   "metadata": {},
   "source": [
    "### 验证多余文件已删除"
   ]
  },
  {
   "cell_type": "code",
   "execution_count": 20,
   "id": "2dea6d10-e56f-4775-a055-933d09a9adde",
   "metadata": {},
   "outputs": [],
   "source": [
    "!find . -iname '__MACOSX'"
   ]
  },
  {
   "cell_type": "code",
   "execution_count": 21,
   "id": "23d47236-e846-42bd-9856-a0dd07a23621",
   "metadata": {},
   "outputs": [],
   "source": [
    "!find . -iname '.DS_Store'"
   ]
  },
  {
   "cell_type": "code",
   "execution_count": 22,
   "id": "a85571be-399b-4e6e-b00e-f3fea415a17e",
   "metadata": {},
   "outputs": [],
   "source": [
    "!find . -iname '.ipynb_checkpoints'"
   ]
  },
  {
   "cell_type": "markdown",
   "id": "eef85f83-4093-4535-b851-457dd73dee6d",
   "metadata": {},
   "source": [
    "## 查看数据集目录结构"
   ]
  },
  {
   "cell_type": "code",
   "execution_count": 23,
   "id": "ce1c0914-5532-4467-ab4e-a84b2551487b",
   "metadata": {},
   "outputs": [],
   "source": [
    "# !pip install seedir emoji"
   ]
  },
  {
   "cell_type": "code",
   "execution_count": 24,
   "id": "3fb5b83e-adf5-407a-a2e6-e841807627c7",
   "metadata": {},
   "outputs": [
    {
     "name": "stdout",
     "output_type": "stream",
     "text": [
      "📁 SJB_25_Dataset/\n",
      "├─📁 images/\n",
      "│ ├─📁 train/\n",
      "│ └─📁 val/\n",
      "└─📁 labelme_jsons/\n",
      "  ├─📁 train/\n",
      "  └─📁 val/\n"
     ]
    }
   ],
   "source": [
    "import seedir as sd\n",
    "sd.seedir('SJB_25_Dataset', style='emoji', depthlimit=2)"
   ]
  },
  {
   "cell_type": "code",
   "execution_count": null,
   "id": "b199e24f-7fd7-4ea9-9b41-3641f72441a3",
   "metadata": {},
   "outputs": [],
   "source": []
  }
 ],
 "metadata": {
  "kernelspec": {
   "display_name": "Python 3 (ipykernel)",
   "language": "python",
   "name": "python3"
  },
  "language_info": {
   "codemirror_mode": {
    "name": "ipython",
    "version": 3
   },
   "file_extension": ".py",
   "mimetype": "text/x-python",
   "name": "python",
   "nbconvert_exporter": "python",
   "pygments_lexer": "ipython3",
   "version": "3.7.10"
  }
 },
 "nbformat": 4,
 "nbformat_minor": 5
}
